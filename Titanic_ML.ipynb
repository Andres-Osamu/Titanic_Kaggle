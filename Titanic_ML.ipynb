{
 "cells": [
  {
   "cell_type": "markdown",
   "metadata": {},
   "source": [
    "# Machine Learn Assignment 1 : Titanic\n",
    "\n",
    "   The formatting of my analysis will resebmle that of the textbook 'Hands-On Machine Learning with SciKit, Keras, and Tensorflow'\n",
    "\n",
    "In this notebook I will provide an analysis and walkthrough of all the steps I took in building and selecting my model. \n",
    "\n",
    "- Problem Overview\n",
    ">In the titanic shipwreck one of the reason why there was many causaulties due to the lack of lifeboats. There is an element of luck invalid in determining which passengers survived, but the goal of this problem is to build a model that can use passenger data to determine how likely they were to survive in comparison to others.\n",
    "\n",
    "- Solution Approach\n",
    ">In order to be able to build a successful model, we must first analyze the data to determine which attributes are relavant to a passengers survivability. As well given that the data is not complete we must handle NaN values. As well we will use feature engineering, and hyperparameter tuning in attempts to reach an accurate model.\n",
    "\n",
    "## Overview\n",
    "1. Data Exploration\n",
    "2. Data Visualization\n",
    "3. Data Preparation\n",
    "4. Basic Model Building\n",
    "5. Model Tuning\n",
    "6. Results\n",
    "7. Future Improvements"
   ]
  },
  {
   "cell_type": "markdown",
   "metadata": {},
   "source": [
    "## 1) Data Exploration\n",
    "\n",
    "We begin by first importing both the training and test data set\n",
    "that is stored locally.\n",
    "\n",
    "We then load in the data and create a copy, to prevent any unintentional modifications to the original dataset we will be using a copy.\n",
    "\n",
    "Next we will use DataFrame's head() and info() methods to get a better understanding of the data we will be working with.\n",
    "\n",
    "### DataFrame.head()\n",
    "From the first five rows we can see the different types of data.\n",
    "The dataset consists of 12 attributes. As we can see not all the values are numerical (Name, sex, emabarked, etc...) we will handle these in the \"Data Preprocessing\" section.\n",
    "\n",
    "\n",
    "### DataFrame.info()\n",
    "Using info() we discoverd that the attribute 'Age', \n",
    "'Embarked' and 'Cabin' contain NaN values. We will handle these values in the \"Data Cleaning\" section. Just like we noticed when using head(), by looking at the 'Dtype' we can see not all attributes consist of numerical data. Once again we will handle this in the \"Data Preprocessing\" section.\n",
    "\n",
    "\n",
    "### DataFrame.describe()\n",
    "Using describe() it will provide us with useful information for the future. Values such like mean, std, 25% 50%, 75% will be useful in the future."
   ]
  },
  {
   "cell_type": "code",
   "execution_count": 1,
   "metadata": {},
   "outputs": [],
   "source": [
    "import pandas as pd\n",
    "\n",
    "def load_train_data():\n",
    "    path = \"./dataset/train.csv\"\n",
    "    train_df = pd.read_csv(path)\n",
    "    return train_df\n",
    "\n",
    "def load_test_data():\n",
    "    path = \"./dataset/test.csv\"\n",
    "    test_df = pd.read_csv(path)\n",
    "    return test_df"
   ]
  },
  {
   "cell_type": "code",
   "execution_count": 2,
   "metadata": {},
   "outputs": [],
   "source": [
    "titanicData = load_train_data()\n",
    "titanicCopy = titanicData.copy()\n"
   ]
  },
  {
   "cell_type": "code",
   "execution_count": 3,
   "metadata": {},
   "outputs": [
    {
     "data": {
      "text/html": [
       "<div>\n",
       "<style scoped>\n",
       "    .dataframe tbody tr th:only-of-type {\n",
       "        vertical-align: middle;\n",
       "    }\n",
       "\n",
       "    .dataframe tbody tr th {\n",
       "        vertical-align: top;\n",
       "    }\n",
       "\n",
       "    .dataframe thead th {\n",
       "        text-align: right;\n",
       "    }\n",
       "</style>\n",
       "<table border=\"1\" class=\"dataframe\">\n",
       "  <thead>\n",
       "    <tr style=\"text-align: right;\">\n",
       "      <th></th>\n",
       "      <th>PassengerId</th>\n",
       "      <th>Survived</th>\n",
       "      <th>Pclass</th>\n",
       "      <th>Name</th>\n",
       "      <th>Sex</th>\n",
       "      <th>Age</th>\n",
       "      <th>SibSp</th>\n",
       "      <th>Parch</th>\n",
       "      <th>Ticket</th>\n",
       "      <th>Fare</th>\n",
       "      <th>Cabin</th>\n",
       "      <th>Embarked</th>\n",
       "    </tr>\n",
       "  </thead>\n",
       "  <tbody>\n",
       "    <tr>\n",
       "      <th>0</th>\n",
       "      <td>1</td>\n",
       "      <td>0</td>\n",
       "      <td>3</td>\n",
       "      <td>Braund, Mr. Owen Harris</td>\n",
       "      <td>male</td>\n",
       "      <td>22.0</td>\n",
       "      <td>1</td>\n",
       "      <td>0</td>\n",
       "      <td>A/5 21171</td>\n",
       "      <td>7.2500</td>\n",
       "      <td>NaN</td>\n",
       "      <td>S</td>\n",
       "    </tr>\n",
       "    <tr>\n",
       "      <th>1</th>\n",
       "      <td>2</td>\n",
       "      <td>1</td>\n",
       "      <td>1</td>\n",
       "      <td>Cumings, Mrs. John Bradley (Florence Briggs Th...</td>\n",
       "      <td>female</td>\n",
       "      <td>38.0</td>\n",
       "      <td>1</td>\n",
       "      <td>0</td>\n",
       "      <td>PC 17599</td>\n",
       "      <td>71.2833</td>\n",
       "      <td>C85</td>\n",
       "      <td>C</td>\n",
       "    </tr>\n",
       "    <tr>\n",
       "      <th>2</th>\n",
       "      <td>3</td>\n",
       "      <td>1</td>\n",
       "      <td>3</td>\n",
       "      <td>Heikkinen, Miss. Laina</td>\n",
       "      <td>female</td>\n",
       "      <td>26.0</td>\n",
       "      <td>0</td>\n",
       "      <td>0</td>\n",
       "      <td>STON/O2. 3101282</td>\n",
       "      <td>7.9250</td>\n",
       "      <td>NaN</td>\n",
       "      <td>S</td>\n",
       "    </tr>\n",
       "    <tr>\n",
       "      <th>3</th>\n",
       "      <td>4</td>\n",
       "      <td>1</td>\n",
       "      <td>1</td>\n",
       "      <td>Futrelle, Mrs. Jacques Heath (Lily May Peel)</td>\n",
       "      <td>female</td>\n",
       "      <td>35.0</td>\n",
       "      <td>1</td>\n",
       "      <td>0</td>\n",
       "      <td>113803</td>\n",
       "      <td>53.1000</td>\n",
       "      <td>C123</td>\n",
       "      <td>S</td>\n",
       "    </tr>\n",
       "    <tr>\n",
       "      <th>4</th>\n",
       "      <td>5</td>\n",
       "      <td>0</td>\n",
       "      <td>3</td>\n",
       "      <td>Allen, Mr. William Henry</td>\n",
       "      <td>male</td>\n",
       "      <td>35.0</td>\n",
       "      <td>0</td>\n",
       "      <td>0</td>\n",
       "      <td>373450</td>\n",
       "      <td>8.0500</td>\n",
       "      <td>NaN</td>\n",
       "      <td>S</td>\n",
       "    </tr>\n",
       "  </tbody>\n",
       "</table>\n",
       "</div>"
      ],
      "text/plain": [
       "   PassengerId  Survived  Pclass  \\\n",
       "0            1         0       3   \n",
       "1            2         1       1   \n",
       "2            3         1       3   \n",
       "3            4         1       1   \n",
       "4            5         0       3   \n",
       "\n",
       "                                                Name     Sex   Age  SibSp  \\\n",
       "0                            Braund, Mr. Owen Harris    male  22.0      1   \n",
       "1  Cumings, Mrs. John Bradley (Florence Briggs Th...  female  38.0      1   \n",
       "2                             Heikkinen, Miss. Laina  female  26.0      0   \n",
       "3       Futrelle, Mrs. Jacques Heath (Lily May Peel)  female  35.0      1   \n",
       "4                           Allen, Mr. William Henry    male  35.0      0   \n",
       "\n",
       "   Parch            Ticket     Fare Cabin Embarked  \n",
       "0      0         A/5 21171   7.2500   NaN        S  \n",
       "1      0          PC 17599  71.2833   C85        C  \n",
       "2      0  STON/O2. 3101282   7.9250   NaN        S  \n",
       "3      0            113803  53.1000  C123        S  \n",
       "4      0            373450   8.0500   NaN        S  "
      ]
     },
     "execution_count": 3,
     "metadata": {},
     "output_type": "execute_result"
    }
   ],
   "source": [
    "titanicCopy.head()"
   ]
  },
  {
   "cell_type": "code",
   "execution_count": 4,
   "metadata": {},
   "outputs": [
    {
     "name": "stdout",
     "output_type": "stream",
     "text": [
      "<class 'pandas.core.frame.DataFrame'>\n",
      "RangeIndex: 891 entries, 0 to 890\n",
      "Data columns (total 12 columns):\n",
      " #   Column       Non-Null Count  Dtype  \n",
      "---  ------       --------------  -----  \n",
      " 0   PassengerId  891 non-null    int64  \n",
      " 1   Survived     891 non-null    int64  \n",
      " 2   Pclass       891 non-null    int64  \n",
      " 3   Name         891 non-null    object \n",
      " 4   Sex          891 non-null    object \n",
      " 5   Age          714 non-null    float64\n",
      " 6   SibSp        891 non-null    int64  \n",
      " 7   Parch        891 non-null    int64  \n",
      " 8   Ticket       891 non-null    object \n",
      " 9   Fare         891 non-null    float64\n",
      " 10  Cabin        204 non-null    object \n",
      " 11  Embarked     889 non-null    object \n",
      "dtypes: float64(2), int64(5), object(5)\n",
      "memory usage: 83.7+ KB\n"
     ]
    }
   ],
   "source": [
    "titanicCopy.info()"
   ]
  },
  {
   "cell_type": "code",
   "execution_count": 5,
   "metadata": {},
   "outputs": [
    {
     "data": {
      "text/html": [
       "<div>\n",
       "<style scoped>\n",
       "    .dataframe tbody tr th:only-of-type {\n",
       "        vertical-align: middle;\n",
       "    }\n",
       "\n",
       "    .dataframe tbody tr th {\n",
       "        vertical-align: top;\n",
       "    }\n",
       "\n",
       "    .dataframe thead th {\n",
       "        text-align: right;\n",
       "    }\n",
       "</style>\n",
       "<table border=\"1\" class=\"dataframe\">\n",
       "  <thead>\n",
       "    <tr style=\"text-align: right;\">\n",
       "      <th></th>\n",
       "      <th>PassengerId</th>\n",
       "      <th>Survived</th>\n",
       "      <th>Pclass</th>\n",
       "      <th>Age</th>\n",
       "      <th>SibSp</th>\n",
       "      <th>Parch</th>\n",
       "      <th>Fare</th>\n",
       "    </tr>\n",
       "  </thead>\n",
       "  <tbody>\n",
       "    <tr>\n",
       "      <th>count</th>\n",
       "      <td>891.000000</td>\n",
       "      <td>891.000000</td>\n",
       "      <td>891.000000</td>\n",
       "      <td>714.000000</td>\n",
       "      <td>891.000000</td>\n",
       "      <td>891.000000</td>\n",
       "      <td>891.000000</td>\n",
       "    </tr>\n",
       "    <tr>\n",
       "      <th>mean</th>\n",
       "      <td>446.000000</td>\n",
       "      <td>0.383838</td>\n",
       "      <td>2.308642</td>\n",
       "      <td>29.699118</td>\n",
       "      <td>0.523008</td>\n",
       "      <td>0.381594</td>\n",
       "      <td>32.204208</td>\n",
       "    </tr>\n",
       "    <tr>\n",
       "      <th>std</th>\n",
       "      <td>257.353842</td>\n",
       "      <td>0.486592</td>\n",
       "      <td>0.836071</td>\n",
       "      <td>14.526497</td>\n",
       "      <td>1.102743</td>\n",
       "      <td>0.806057</td>\n",
       "      <td>49.693429</td>\n",
       "    </tr>\n",
       "    <tr>\n",
       "      <th>min</th>\n",
       "      <td>1.000000</td>\n",
       "      <td>0.000000</td>\n",
       "      <td>1.000000</td>\n",
       "      <td>0.420000</td>\n",
       "      <td>0.000000</td>\n",
       "      <td>0.000000</td>\n",
       "      <td>0.000000</td>\n",
       "    </tr>\n",
       "    <tr>\n",
       "      <th>25%</th>\n",
       "      <td>223.500000</td>\n",
       "      <td>0.000000</td>\n",
       "      <td>2.000000</td>\n",
       "      <td>20.125000</td>\n",
       "      <td>0.000000</td>\n",
       "      <td>0.000000</td>\n",
       "      <td>7.910400</td>\n",
       "    </tr>\n",
       "    <tr>\n",
       "      <th>50%</th>\n",
       "      <td>446.000000</td>\n",
       "      <td>0.000000</td>\n",
       "      <td>3.000000</td>\n",
       "      <td>28.000000</td>\n",
       "      <td>0.000000</td>\n",
       "      <td>0.000000</td>\n",
       "      <td>14.454200</td>\n",
       "    </tr>\n",
       "    <tr>\n",
       "      <th>75%</th>\n",
       "      <td>668.500000</td>\n",
       "      <td>1.000000</td>\n",
       "      <td>3.000000</td>\n",
       "      <td>38.000000</td>\n",
       "      <td>1.000000</td>\n",
       "      <td>0.000000</td>\n",
       "      <td>31.000000</td>\n",
       "    </tr>\n",
       "    <tr>\n",
       "      <th>max</th>\n",
       "      <td>891.000000</td>\n",
       "      <td>1.000000</td>\n",
       "      <td>3.000000</td>\n",
       "      <td>80.000000</td>\n",
       "      <td>8.000000</td>\n",
       "      <td>6.000000</td>\n",
       "      <td>512.329200</td>\n",
       "    </tr>\n",
       "  </tbody>\n",
       "</table>\n",
       "</div>"
      ],
      "text/plain": [
       "       PassengerId    Survived      Pclass         Age       SibSp  \\\n",
       "count   891.000000  891.000000  891.000000  714.000000  891.000000   \n",
       "mean    446.000000    0.383838    2.308642   29.699118    0.523008   \n",
       "std     257.353842    0.486592    0.836071   14.526497    1.102743   \n",
       "min       1.000000    0.000000    1.000000    0.420000    0.000000   \n",
       "25%     223.500000    0.000000    2.000000   20.125000    0.000000   \n",
       "50%     446.000000    0.000000    3.000000   28.000000    0.000000   \n",
       "75%     668.500000    1.000000    3.000000   38.000000    1.000000   \n",
       "max     891.000000    1.000000    3.000000   80.000000    8.000000   \n",
       "\n",
       "            Parch        Fare  \n",
       "count  891.000000  891.000000  \n",
       "mean     0.381594   32.204208  \n",
       "std      0.806057   49.693429  \n",
       "min      0.000000    0.000000  \n",
       "25%      0.000000    7.910400  \n",
       "50%      0.000000   14.454200  \n",
       "75%      0.000000   31.000000  \n",
       "max      6.000000  512.329200  "
      ]
     },
     "execution_count": 5,
     "metadata": {},
     "output_type": "execute_result"
    }
   ],
   "source": [
    "titanicCopy.describe()"
   ]
  },
  {
   "cell_type": "markdown",
   "metadata": {},
   "source": [
    "## 2) Data Visualization\n",
    "\n",
    "### Scatter Matrix\n",
    "The scatter matrix is used on the numerical attributes listed to see if there are any strong correlations with the attribute 'Survived'"
   ]
  },
  {
   "cell_type": "code",
   "execution_count": 6,
   "metadata": {},
   "outputs": [
    {
     "data": {
      "text/plain": [
       "array([[<AxesSubplot:xlabel='Survived', ylabel='Survived'>,\n",
       "        <AxesSubplot:xlabel='Pclass', ylabel='Survived'>,\n",
       "        <AxesSubplot:xlabel='Age', ylabel='Survived'>,\n",
       "        <AxesSubplot:xlabel='SibSp', ylabel='Survived'>,\n",
       "        <AxesSubplot:xlabel='Parch', ylabel='Survived'>,\n",
       "        <AxesSubplot:xlabel='Fare', ylabel='Survived'>],\n",
       "       [<AxesSubplot:xlabel='Survived', ylabel='Pclass'>,\n",
       "        <AxesSubplot:xlabel='Pclass', ylabel='Pclass'>,\n",
       "        <AxesSubplot:xlabel='Age', ylabel='Pclass'>,\n",
       "        <AxesSubplot:xlabel='SibSp', ylabel='Pclass'>,\n",
       "        <AxesSubplot:xlabel='Parch', ylabel='Pclass'>,\n",
       "        <AxesSubplot:xlabel='Fare', ylabel='Pclass'>],\n",
       "       [<AxesSubplot:xlabel='Survived', ylabel='Age'>,\n",
       "        <AxesSubplot:xlabel='Pclass', ylabel='Age'>,\n",
       "        <AxesSubplot:xlabel='Age', ylabel='Age'>,\n",
       "        <AxesSubplot:xlabel='SibSp', ylabel='Age'>,\n",
       "        <AxesSubplot:xlabel='Parch', ylabel='Age'>,\n",
       "        <AxesSubplot:xlabel='Fare', ylabel='Age'>],\n",
       "       [<AxesSubplot:xlabel='Survived', ylabel='SibSp'>,\n",
       "        <AxesSubplot:xlabel='Pclass', ylabel='SibSp'>,\n",
       "        <AxesSubplot:xlabel='Age', ylabel='SibSp'>,\n",
       "        <AxesSubplot:xlabel='SibSp', ylabel='SibSp'>,\n",
       "        <AxesSubplot:xlabel='Parch', ylabel='SibSp'>,\n",
       "        <AxesSubplot:xlabel='Fare', ylabel='SibSp'>],\n",
       "       [<AxesSubplot:xlabel='Survived', ylabel='Parch'>,\n",
       "        <AxesSubplot:xlabel='Pclass', ylabel='Parch'>,\n",
       "        <AxesSubplot:xlabel='Age', ylabel='Parch'>,\n",
       "        <AxesSubplot:xlabel='SibSp', ylabel='Parch'>,\n",
       "        <AxesSubplot:xlabel='Parch', ylabel='Parch'>,\n",
       "        <AxesSubplot:xlabel='Fare', ylabel='Parch'>],\n",
       "       [<AxesSubplot:xlabel='Survived', ylabel='Fare'>,\n",
       "        <AxesSubplot:xlabel='Pclass', ylabel='Fare'>,\n",
       "        <AxesSubplot:xlabel='Age', ylabel='Fare'>,\n",
       "        <AxesSubplot:xlabel='SibSp', ylabel='Fare'>,\n",
       "        <AxesSubplot:xlabel='Parch', ylabel='Fare'>,\n",
       "        <AxesSubplot:xlabel='Fare', ylabel='Fare'>]], dtype=object)"
      ]
     },
     "execution_count": 6,
     "metadata": {},
     "output_type": "execute_result"
    },
    {
     "data": {
      "image/png": "[encoded data removed]",
      "text/plain": [
       "<Figure size 864x576 with 36 Axes>"
      ]
     },
     "metadata": {
      "needs_background": "light"
     },
     "output_type": "display_data"
    }
   ],
   "source": [
    "from matplotlib import pyplot as plt\n",
    "import numpy as np\n",
    "import seaborn as sns\n",
    "import pylab as plot\n",
    "from pandas.plotting import scatter_matrix\n",
    "\n",
    "attributes = ['Survived', 'Pclass', 'Age', 'SibSp', 'Parch', 'Fare',]\n",
    "\n",
    "scatter_matrix(titanicCopy[attributes], figsize=(12,8))"
   ]
  },
  {
   "cell_type": "markdown",
   "metadata": {},
   "source": [
    "### GroupBy\n",
    "Using Pandas GroupBy feature we are able to display the ratio of Survived to Died in respect to other attributes. After seeing this data we can determine that these features do provide insight and therefore will be used in our model.\n",
    ">#### Age\n",
    "We can see the outter limits of the group show the passengers who were younger and older had a better chance at survival than those in the middle.\n",
    ">#### Sex\n",
    "We can see females survived at a significantly higher rate than males\n",
    ">#### Fare\n",
    "Passengers who's fare was on the lower end survived at a very low rate, while passengers who's fare was on the higher end survived at high rate.\n",
    ">#### SibSp and Parch\n",
    "Both showed similar trends, the lower values survived at a higher rate than the larger values. It is also worth noting the values for each graph that resulted in an incredibly low survival rate. These two features are worth combining to provide the model with more generic data.\n",
    ">#### Embarked and Pclass\n",
    "The first two values were near the relatively close to the 50% mark thus they are not worth noting, however it is worth noting the Embarked's S values and Pclass' 3 values as they both showed a survival rate below 40%\n"
   ]
  },
  {
   "cell_type": "code",
   "execution_count": 7,
   "metadata": {},
   "outputs": [],
   "source": [
    "\n",
    "titanicCopy['Died'] = 1 - titanicCopy['Survived']\n",
    "attributes = ['Age', 'Sex', 'Fare', 'SibSp', 'Parch', 'Embarked', 'Pclass']\n",
    "for label in attributes:\n",
    "    titanicCopy.groupby(label).agg('mean')[['Survived', 'Died']].plot(kind='bar', figsize=(25, 7),\n",
    "                                                            stacked=True);"
   ]
  },
  {
   "cell_type": "markdown",
   "metadata": {},
   "source": [
    "## 3) Data Preparation\n",
    "\n",
    "### Data Cleaning\n",
    "As we saw in the \"Data Exploration\" section, some of the attributes contained NaN values. As well some attributes contained non numeric values.\n",
    ">#### Filling the Data\n",
    "    Using the SimpleImputer we will use the strategy 'mean' to fill all NaN values with the attributes mean value. This is done in the fillEmptyData method.\n",
    "    It is worth noting, we fill the missing numerical data now as we need it complete in order to generate the new attribute columns\n",
    "    \n",
    "\n",
    ">#### Non Numeric Attributes\n",
    "    From our data visualization we determined that the attributes Age and Fare both provided valuable information in terms of survival rates. In order to provide the model with these attributes we must transform the data into numeric values. In order to do so we will first split the values into ranges then using one hot encoding we will transform these range values into attributes where their values will be binary.\n",
    "    The methods 'setFareCategory' and 'setAgeCategory' will handle the value range catories.\n",
    "    The age range values were selected based on the generic social division that are used in society.\n",
    "    The fare range values were selected based on the percentiles values found when using describe(), as mentioned in the \"Data Exploration\" section"
   ]
  },
  {
   "cell_type": "code",
   "execution_count": 8,
   "metadata": {},
   "outputs": [],
   "source": [
    "from sklearn.impute import SimpleImputer\n",
    "\n",
    "def fillEmptyData(data_df):\n",
    "        imputer = SimpleImputer(strategy='mean')\n",
    "        imputer.fit(data_df)\n",
    "        data_complete = imputer.transform(data_df)\n",
    "\n",
    "        complete_df = pd.DataFrame(data_complete, columns=data_df.columns, index=data_df.index)\n",
    "        return complete_df"
   ]
  },
  {
   "cell_type": "code",
   "execution_count": 9,
   "metadata": {},
   "outputs": [],
   "source": [
    "def setFareCategory(data_df):\n",
    "    \n",
    "    fareData = []\n",
    "    for i in data_df.index:\n",
    "        fare = data_df[\"Fare\"][i]\n",
    "        if fare < 8:\n",
    "            fareData.append(\"Lowest Fare\")\n",
    "        elif fare < 14:\n",
    "            fareData.append(\"Low Fare\")\n",
    "        elif fare < 31:\n",
    "            fareData.append(\"Medium Fare\")\n",
    "        else:\n",
    "            fareData.append(\"Expensive\")\n",
    "            \n",
    "            \n",
    "    temp={'FareCat':fareData}\n",
    "    tempdf = pd.DataFrame(data=temp)\n",
    "    data_df['FareCat']=fareData\n",
    "    \n",
    "    return data_df"
   ]
  },
  {
   "cell_type": "code",
   "execution_count": 10,
   "metadata": {},
   "outputs": [],
   "source": [
    "def setAgeCategory(data_df):\n",
    "\n",
    "    ageData = []\n",
    "    for i in data_df.index:\n",
    "        age = data_df[\"Age\"][i]\n",
    "        if age < 6:\n",
    "            ageData.append(\"Infant\")\n",
    "        elif age < 13:\n",
    "            ageData.append(\"Child\")\n",
    "        elif age < 19:\n",
    "            ageData.append(\"Teenager\")\n",
    "        elif age < 35:\n",
    "            ageData.append(\"Young Adult\")\n",
    "        elif age < 60:\n",
    "            ageData.append(\"Adult\")\n",
    "        else:\n",
    "            ageData.append(\"Elderly\")\n",
    "            \n",
    "    temp={\"AgeCat\":ageData}\n",
    "    tempdf = pd.DataFrame(data=temp)\n",
    "    data_df[\"AgeCat\"]=ageData\n",
    "        \n",
    "    return (data_df)"
   ]
  },
  {
   "cell_type": "markdown",
   "metadata": {},
   "source": [
    "\n",
    "### Feature Engineering\n",
    "After exploring our data we determined that Parch and SibSp both consisted of data that was related to one another. In attempts to prevent overfitting of our model, we will combine these two attributes into one attribute called 'FamilySize'\n",
    "\n",
    "The method setFamilySize will do just that."
   ]
  },
  {
   "cell_type": "code",
   "execution_count": 11,
   "metadata": {},
   "outputs": [],
   "source": [
    "def setFamilySize(data_df):\n",
    "    familyData = []\n",
    "\n",
    "    for x in data_df.index:\n",
    "        valueSibs = data_df[\"SibSp\"][x]\n",
    "        valueParch = data_df[\"Parch\"][x]\n",
    "        if valueSibs > 0 or valueParch > 0:\n",
    "            familyData.append(valueSibs+valueParch+1)\n",
    "        else:\n",
    "            familyData.append(1)\n",
    "\n",
    "    data_df['FamilySize']=familyData\n",
    "    return data_df"
   ]
  },
  {
   "cell_type": "markdown",
   "metadata": {},
   "source": [
    "### Final Preparations\n",
    "\n",
    ">#### prepData()\n",
    "Now that we have established how we will handle our non-numeric and missing values, we will now wrap up the preparations.\n",
    "We will call the method 'prepData()', this method will call the Data Cleaning methods described above."
   ]
  },
  {
   "cell_type": "code",
   "execution_count": 12,
   "metadata": {},
   "outputs": [],
   "source": [
    "def prepData(data_df):\n",
    "    \n",
    "    cat_df = data_df[[\"Name\",\"Sex\",\"Ticket\", \"Cabin\", \"Embarked\"]].copy()\n",
    "    num_df = data_df[[\"PassengerId\",\"Pclass\", \"Age\", \"SibSp\", \"Parch\", \"Fare\"]].copy()\n",
    "    \n",
    "    num_complete_df = fillEmptyData(num_df)\n",
    "    data_df = pd.concat([num_complete_df, cat_df], axis=1)\n",
    "    \n",
    "    data_df = setFamilySize(data_df)\n",
    "    data_df = setFareCategory(data_df)\n",
    "    data_df = setAgeCategory(data_df)\n",
    "    \n",
    "    return data_df"
   ]
  },
  {
   "cell_type": "code",
   "execution_count": 13,
   "metadata": {},
   "outputs": [],
   "source": [
    "titanic_df = prepData(titanicData)"
   ]
  },
  {
   "cell_type": "markdown",
   "metadata": {},
   "source": [
    "\n",
    ">#### ColumnTransfer\n",
    "    After calling prepData we have received the complete data set. However we still have the issue of some attributes (age,fare) being range values and not scaling our data.\n",
    "    This is where ColumnTransfer comes into play. Below I created num_pipeline which will take all the numerical data and scale it. Then cat_pipline will take all the categorical attributes and fill in any missing values using 'most_frequent' and use OneHotEncoder to turn the categorical range values into numerical attributes.\n",
    "    All these steps will be completed by calling full_pipeline"
   ]
  },
  {
   "cell_type": "code",
   "execution_count": 14,
   "metadata": {},
   "outputs": [],
   "source": [
    "from sklearn.pipeline import Pipeline\n",
    "from sklearn.preprocessing import StandardScaler\n",
    "from sklearn.impute import SimpleImputer\n",
    "\n",
    "num_pipeline = Pipeline([\n",
    "        ('std_scaler', StandardScaler())\n",
    "        ])"
   ]
  },
  {
   "cell_type": "code",
   "execution_count": 15,
   "metadata": {},
   "outputs": [],
   "source": [
    "from sklearn.preprocessing import OneHotEncoder\n",
    "\n",
    "cat_pipeline = Pipeline([\n",
    "    (\"imputer_cat\", SimpleImputer(strategy=\"most_frequent\")),\n",
    "    (\"1hot_cat\", OneHotEncoder())\n",
    "    ])"
   ]
  },
  {
   "cell_type": "code",
   "execution_count": 16,
   "metadata": {},
   "outputs": [],
   "source": [
    "from sklearn.compose import ColumnTransformer\n",
    "\n",
    "num_attribs = [\"Pclass\",\"FamilySize\"]\n",
    "cat_attribs = [\"Sex\",\"Embarked\",\"AgeCat\",'FareCat']\n",
    "\n",
    "full_pipeline = ColumnTransformer([\n",
    "    (\"num\", num_pipeline, num_attribs),\n",
    "    (\"cat\", cat_pipeline, cat_attribs),\n",
    "])"
   ]
  },
  {
   "cell_type": "code",
   "execution_count": 17,
   "metadata": {},
   "outputs": [],
   "source": [
    "\n",
    "dataPrepared = full_pipeline.fit_transform(titanic_df)\n",
    "y_data = titanicCopy[\"Survived\"].copy()\n",
    "\n",
    "# X_train = dataPrepared[711:]\n",
    "# X_test = dataPrepared[:711]\n",
    "# y_train = y_data[711:]\n",
    "# y_test =y_data[:711]"
   ]
  },
  {
   "cell_type": "markdown",
   "metadata": {},
   "source": [
    "## 4) Basic Model Building\n",
    "\n",
    "#### Models\n",
    "For the basic model building I decided to use the required naive bayes, perceptron, decision tree. As well as random forest, logisitic regression,KNN, support vector in attempts to achieve better results."
   ]
  },
  {
   "cell_type": "code",
   "execution_count": 18,
   "metadata": {},
   "outputs": [],
   "source": [
    "from sklearn.ensemble import RandomForestClassifier\n",
    "from sklearn.model_selection import cross_val_score\n",
    "\n",
    "rfc = RandomForestClassifier()\n",
    "rfc.fit(dataPrepared, y_data)\n",
    "cv_rfc = cross_val_score(rfc,dataPrepared, y_data, cv=5)"
   ]
  },
  {
   "cell_type": "code",
   "execution_count": 19,
   "metadata": {},
   "outputs": [],
   "source": [
    "from sklearn.linear_model import LogisticRegression\n",
    "\n",
    "lr = LogisticRegression()\n",
    "lr.fit(dataPrepared, y_data)\n",
    "cv_lr = cross_val_score(lr,dataPrepared, y_data,cv=5)"
   ]
  },
  {
   "cell_type": "code",
   "execution_count": 20,
   "metadata": {},
   "outputs": [],
   "source": [
    "from sklearn.neighbors import KNeighborsClassifier\n",
    "\n",
    "knn = KNeighborsClassifier()\n",
    "knn.fit(dataPrepared, y_data)\n",
    "cv_knn = cross_val_score(knn,dataPrepared, y_data,cv=5)"
   ]
  },
  {
   "cell_type": "code",
   "execution_count": 21,
   "metadata": {},
   "outputs": [],
   "source": [
    "from sklearn.svm import SVC\n",
    "\n",
    "svc = SVC()\n",
    "svc.fit(dataPrepared, y_data)\n",
    "cv_svc = cross_val_score(svc,dataPrepared, y_data,cv=5)"
   ]
  },
  {
   "cell_type": "code",
   "execution_count": 22,
   "metadata": {},
   "outputs": [],
   "source": [
    "from sklearn.linear_model import Perceptron\n",
    "\n",
    "perceptron = Perceptron()\n",
    "perceptron.fit(dataPrepared, y_data)\n",
    "cv_perceptron = cross_val_score(perceptron,dataPrepared, y_data,cv=5)"
   ]
  },
  {
   "cell_type": "code",
   "execution_count": 23,
   "metadata": {},
   "outputs": [],
   "source": [
    "from sklearn.tree import DecisionTreeClassifier\n",
    "\n",
    "tree = DecisionTreeClassifier()\n",
    "tree.fit(dataPrepared, y_data)\n",
    "cv_tree = cross_val_score(tree,dataPrepared, y_data,cv=5)"
   ]
  },
  {
   "cell_type": "code",
   "execution_count": 24,
   "metadata": {},
   "outputs": [],
   "source": [
    "from sklearn.naive_bayes import GaussianNB\n",
    "nb = GaussianNB()\n",
    "nb.fit(dataPrepared, y_data)\n",
    "cv_nb = cross_val_score(nb,dataPrepared, y_data,cv=5)"
   ]
  },
  {
   "cell_type": "markdown",
   "metadata": {},
   "source": [
    "#### Evaluation Metrics\n",
    "In order to decide which models to proceed with, I used the mean cross validation score.\n"
   ]
  },
  {
   "cell_type": "code",
   "execution_count": 25,
   "metadata": {},
   "outputs": [
    {
     "data": {
      "text/html": [
       "<div>\n",
       "<style scoped>\n",
       "    .dataframe tbody tr th:only-of-type {\n",
       "        vertical-align: middle;\n",
       "    }\n",
       "\n",
       "    .dataframe tbody tr th {\n",
       "        vertical-align: top;\n",
       "    }\n",
       "\n",
       "    .dataframe thead th {\n",
       "        text-align: right;\n",
       "    }\n",
       "</style>\n",
       "<table border=\"1\" class=\"dataframe\">\n",
       "  <thead>\n",
       "    <tr style=\"text-align: right;\">\n",
       "      <th></th>\n",
       "      <th>Model</th>\n",
       "      <th>Score</th>\n",
       "    </tr>\n",
       "  </thead>\n",
       "  <tbody>\n",
       "    <tr>\n",
       "      <th>0</th>\n",
       "      <td>Random Forest Classifier</td>\n",
       "      <td>0.829465</td>\n",
       "    </tr>\n",
       "    <tr>\n",
       "      <th>3</th>\n",
       "      <td>Support Vector Machines</td>\n",
       "      <td>0.823784</td>\n",
       "    </tr>\n",
       "    <tr>\n",
       "      <th>5</th>\n",
       "      <td>Decision Tree</td>\n",
       "      <td>0.822692</td>\n",
       "    </tr>\n",
       "    <tr>\n",
       "      <th>2</th>\n",
       "      <td>KNN</td>\n",
       "      <td>0.803697</td>\n",
       "    </tr>\n",
       "    <tr>\n",
       "      <th>1</th>\n",
       "      <td>Logistic Regression</td>\n",
       "      <td>0.797985</td>\n",
       "    </tr>\n",
       "    <tr>\n",
       "      <th>6</th>\n",
       "      <td>Naive Bayes</td>\n",
       "      <td>0.771144</td>\n",
       "    </tr>\n",
       "    <tr>\n",
       "      <th>4</th>\n",
       "      <td>Perceptron</td>\n",
       "      <td>0.759940</td>\n",
       "    </tr>\n",
       "  </tbody>\n",
       "</table>\n",
       "</div>"
      ],
      "text/plain": [
       "                      Model     Score\n",
       "0  Random Forest Classifier  0.829465\n",
       "3   Support Vector Machines  0.823784\n",
       "5             Decision Tree  0.822692\n",
       "2                       KNN  0.803697\n",
       "1       Logistic Regression  0.797985\n",
       "6               Naive Bayes  0.771144\n",
       "4                Perceptron  0.759940"
      ]
     },
     "execution_count": 25,
     "metadata": {},
     "output_type": "execute_result"
    }
   ],
   "source": [
    "models = pd.DataFrame({\n",
    "    'Model': [\"Random Forest Classifier\",  \"Logistic Regression\", \n",
    "              \"KNN\", \"Support Vector Machines\", \"Perceptron\", \"Decision Tree\", \"Naive Bayes\"], \n",
    "    'Score': [cv_rfc.mean(), cv_lr.mean(), cv_knn.mean(), cv_svc.mean(), cv_perceptron.mean(), cv_tree.mean(), cv_nb.mean()]\n",
    "    })\n",
    "\n",
    "models.sort_values(by='Score', ascending=False)"
   ]
  },
  {
   "cell_type": "markdown",
   "metadata": {},
   "source": [
    "## 5) Model Tuning\n",
    "\n",
    "From our basic model cross validation scores we will select our best two models, Random Forest Classifier and SVC to fine tune. As well as the three from the assignment outline, Decision Tree, Naive Bayes, and Perceptron\n",
    "\n",
    "For all models the hyperparameters were selected based on the documention and some quick research on which hyperparameters are most important.\n",
    "\n",
    ">#### Random Forest Classifier\n",
    "\n"
   ]
  },
  {
   "cell_type": "code",
   "execution_count": 26,
   "metadata": {},
   "outputs": [
    {
     "data": {
      "text/plain": [
       "0.8272048207896553"
      ]
     },
     "execution_count": 26,
     "metadata": {},
     "output_type": "execute_result"
    }
   ],
   "source": [
    "from sklearn.model_selection import GridSearchCV\n",
    "\n",
    "n_estimators = [100, 500]\n",
    "max_features = ['auto', 'sqrt', 'log2']\n",
    "max_depth = [10, 40]\n",
    "bootstrap = [True, False]\n",
    "grid = {'n_estimators': n_estimators,\n",
    "               'max_features': max_features,\n",
    "               'bootstrap': bootstrap}\n",
    "\n",
    "\n",
    "\n",
    "rfc = RandomForestClassifier()\n",
    "grid_rfc = GridSearchCV(estimator=rfc, param_grid=grid, cv = 5, n_jobs=-1)\n",
    "grid_rfc.fit(dataPrepared, y_data)\n",
    "\n",
    "cv_grid_rfc = cross_val_score(grid_rfc,dataPrepared, y_data, cv=5)\n",
    "cv_grid_rfc.mean()"
   ]
  },
  {
   "cell_type": "markdown",
   "metadata": {},
   "source": [
    ">#### SVC"
   ]
  },
  {
   "cell_type": "code",
   "execution_count": 37,
   "metadata": {},
   "outputs": [
    {
     "data": {
      "text/plain": [
       "0.817048521750047"
      ]
     },
     "execution_count": 37,
     "metadata": {},
     "output_type": "execute_result"
    }
   ],
   "source": [
    "C = [0.1,1,10,100]\n",
    "gamma = [1, 0.1, 0.01, 0.001]\n",
    "kernel = ['rbf', 'poly', 'sigmoid']\n",
    "\n",
    "grid = {'C': C,\n",
    "       'gamma': gamma,\n",
    "       'kernel':kernel}\n",
    "\n",
    "svc = SVC()\n",
    "grid_svc = GridSearchCV(estimator=svc, param_grid=grid, cv = 5, n_jobs=-1)\n",
    "grid_svc.fit(dataPrepared, y_data)\n",
    "\n",
    "cv_grid_svc = cross_val_score(grid_svc,dataPrepared, y_data, cv=5)\n",
    "cv_grid_svc.mean()"
   ]
  },
  {
   "cell_type": "markdown",
   "metadata": {},
   "source": [
    ">#### Perceptron"
   ]
  },
  {
   "cell_type": "code",
   "execution_count": 27,
   "metadata": {},
   "outputs": [
    {
     "data": {
      "text/plain": [
       "0.6588789153223276"
      ]
     },
     "execution_count": 27,
     "metadata": {},
     "output_type": "execute_result"
    }
   ],
   "source": [
    "penalty = ['l2', 'l1', 'elasticnet', None]\n",
    "fit_intercept = [True, False]\n",
    "max_iter = [1000, 1500, 2000]\n",
    "shuffle = [True, False]\n",
    "validation_fraction =[0.1, 0.5, 0.9]\n",
    "\n",
    "grid = {'penalty': penalty,\n",
    "       'fit_intercept':fit_intercept,\n",
    "       'max_iter':max_iter,\n",
    "       'shuffle':shuffle,\n",
    "       'validation_fraction':validation_fraction}\n",
    "\n",
    "perceptron = Perceptron()\n",
    "grid_perceptron = GridSearchCV(estimator=perceptron, param_grid=grid, cv = 5, n_jobs=-1)\n",
    "\n",
    "grid_perceptron.fit(dataPrepared, y_data)\n",
    "\n",
    "cv_grid_perceptron = cross_val_score(grid_perceptron,dataPrepared, y_data, cv=5)\n",
    "cv_grid_perceptron.mean()"
   ]
  },
  {
   "cell_type": "markdown",
   "metadata": {},
   "source": [
    ">#### Decision Tree"
   ]
  },
  {
   "cell_type": "code",
   "execution_count": 28,
   "metadata": {},
   "outputs": [
    {
     "data": {
      "text/plain": [
       "0.8136902893729208"
      ]
     },
     "execution_count": 28,
     "metadata": {},
     "output_type": "execute_result"
    }
   ],
   "source": [
    "max_features = ['log2', 'sqrt','auto']\n",
    "criterion = ['entropy', 'gini']\n",
    "max_depth = [5, 15, 30]\n",
    "\n",
    "grid = {'max_features': max_features,\n",
    "       'criterion': criterion,\n",
    "       'max_depth': max_depth}\n",
    "\n",
    "\n",
    "tree = DecisionTreeClassifier()\n",
    "grid_tree = GridSearchCV(estimator=tree, param_grid=grid, cv = 5, n_jobs=-1)\n",
    "\n",
    "grid_tree.fit(dataPrepared, y_data)\n",
    "\n",
    "cv_grid_tree = cross_val_score(grid_tree,dataPrepared, y_data, cv=5)\n",
    "cv_grid_tree.mean()"
   ]
  },
  {
   "cell_type": "markdown",
   "metadata": {},
   "source": [
    ">#### Naive Bayes"
   ]
  },
  {
   "cell_type": "code",
   "execution_count": 29,
   "metadata": {},
   "outputs": [
    {
     "data": {
      "text/plain": [
       "0.7677860774590421"
      ]
     },
     "execution_count": 29,
     "metadata": {},
     "output_type": "execute_result"
    }
   ],
   "source": [
    "var_smoothing = np.logspace(0, -9, num=100)\n",
    "grid = {'var_smoothing':var_smoothing}\n",
    "\n",
    "nb = GaussianNB()\n",
    "grid_nb = GridSearchCV(estimator=nb, param_grid=grid, cv = 5, n_jobs=-1)\n",
    "\n",
    "grid_nb.fit(dataPrepared, y_data)\n",
    "\n",
    "cv_grid_nb = cross_val_score(grid_nb,dataPrepared, y_data, cv=5)\n",
    "cv_grid_nb.mean()"
   ]
  },
  {
   "cell_type": "code",
   "execution_count": null,
   "metadata": {},
   "outputs": [],
   "source": []
  },
  {
   "cell_type": "markdown",
   "metadata": {},
   "source": [
    "#### Model Comparison\n",
    "\n",
    "Once the GridSearch returns the best parameters, we will retrain the models using the new hyperparameters. Then we will once again use cross validation to compare the results to the default hyperparameters. From there we will be able to select our best model."
   ]
  },
  {
   "cell_type": "code",
   "execution_count": 39,
   "metadata": {},
   "outputs": [
    {
     "data": {
      "text/html": [
       "<div>\n",
       "<style scoped>\n",
       "    .dataframe tbody tr th:only-of-type {\n",
       "        vertical-align: middle;\n",
       "    }\n",
       "\n",
       "    .dataframe tbody tr th {\n",
       "        vertical-align: top;\n",
       "    }\n",
       "\n",
       "    .dataframe thead th {\n",
       "        text-align: right;\n",
       "    }\n",
       "</style>\n",
       "<table border=\"1\" class=\"dataframe\">\n",
       "  <thead>\n",
       "    <tr style=\"text-align: right;\">\n",
       "      <th></th>\n",
       "      <th>Model</th>\n",
       "      <th>Default Score</th>\n",
       "      <th>Tuned Score</th>\n",
       "    </tr>\n",
       "  </thead>\n",
       "  <tbody>\n",
       "    <tr>\n",
       "      <th>0</th>\n",
       "      <td>Random Forest Classifier</td>\n",
       "      <td>0.829465</td>\n",
       "      <td>0.827205</td>\n",
       "    </tr>\n",
       "    <tr>\n",
       "      <th>1</th>\n",
       "      <td>SVC</td>\n",
       "      <td>0.823784</td>\n",
       "      <td>0.817049</td>\n",
       "    </tr>\n",
       "    <tr>\n",
       "      <th>3</th>\n",
       "      <td>Decision Tree</td>\n",
       "      <td>0.822692</td>\n",
       "      <td>0.813690</td>\n",
       "    </tr>\n",
       "    <tr>\n",
       "      <th>4</th>\n",
       "      <td>Naive Bayes</td>\n",
       "      <td>0.771144</td>\n",
       "      <td>0.767786</td>\n",
       "    </tr>\n",
       "    <tr>\n",
       "      <th>2</th>\n",
       "      <td>Perceptron</td>\n",
       "      <td>0.759940</td>\n",
       "      <td>0.658879</td>\n",
       "    </tr>\n",
       "  </tbody>\n",
       "</table>\n",
       "</div>"
      ],
      "text/plain": [
       "                      Model  Default Score  Tuned Score\n",
       "0  Random Forest Classifier       0.829465     0.827205\n",
       "1                       SVC       0.823784     0.817049\n",
       "3             Decision Tree       0.822692     0.813690\n",
       "4               Naive Bayes       0.771144     0.767786\n",
       "2                Perceptron       0.759940     0.658879"
      ]
     },
     "execution_count": 39,
     "metadata": {},
     "output_type": "execute_result"
    }
   ],
   "source": [
    "modelsTuned = pd.DataFrame({\n",
    "    'Model': [\"Random Forest Classifier\", \"SVC\", \"Perceptron\", \"Decision Tree\", \"Naive Bayes\"], \n",
    "    'Default Score': [cv_rfc.mean(), cv_svc.mean(), cv_perceptron.mean(), cv_tree.mean(), cv_nb.mean()],\n",
    "    'Tuned Score': [cv_grid_rfc.mean(),cv_grid_svc.mean(), cv_grid_perceptron.mean(), cv_grid_tree.mean(), cv_grid_nb.mean()]\n",
    "})\n",
    "\n",
    "modelsTuned.sort_values(by='Default Score', ascending=False)"
   ]
  },
  {
   "cell_type": "markdown",
   "metadata": {},
   "source": [
    "## 6) Results\n",
    "Kaggle Submissions will be made for the top 3 scores. The best result will be shown below."
   ]
  },
  {
   "cell_type": "code",
   "execution_count": 42,
   "metadata": {},
   "outputs": [],
   "source": [
    "test_data = load_test_data()\n",
    "test_df = prepData(test_data)\n",
    "prepared_test = full_pipeline.fit_transform(test_df)\n",
    "svc_final = SVC()\n",
    "svc_final.fit(dataPrepared, y_data)\n",
    "\n",
    "final_prediction = svc_final.predict(prepared_test)\n",
    "\n",
    "final_data = {\"PassengerId\" : test_data.PassengerId, \"Survived\" : final_prediction}\n",
    "submission = pd.DataFrame(data=final_data)\n",
    "submission.head()\n",
    "submission.to_csv(\"Final_Submission_svc.csv\", index=False)"
   ]
  },
  {
   "cell_type": "code",
   "execution_count": 43,
   "metadata": {},
   "outputs": [
    {
     "data": {
      "image/png": "[encoded data removed]",
      "text/plain": [
       "<IPython.core.display.Image object>"
      ]
     },
     "execution_count": 43,
     "metadata": {},
     "output_type": "execute_result"
    }
   ],
   "source": [
    "from IPython.display import Image\n",
    "Image(filename='Kaggle_Results_SVC.png')"
   ]
  },
  {
   "cell_type": "markdown",
   "metadata": {},
   "source": [
    "## 7) Future Improvements\n",
    "\n",
    "- Overfitting\n",
    ">- Based on some testing the models perform better when not given the complete training dataset (X_train found just above basic modeling section)\n",
    "\n",
    "- Potential Improvement ideas\n",
    ">- The final models did not make use of all the attributes from the original data set, further analysis and feature engineering could potentially improve the model's accuracy\n",
    ">- Another opportunity for improvement would result from more indepth grid search. Given that all the hyperparameters found resulted in a decrease in accuracy."
   ]
  },
  {
   "cell_type": "code",
   "execution_count": null,
   "metadata": {},
   "outputs": [],
   "source": []
  }
 ],
 "metadata": {
  "kernelspec": {
   "display_name": "Python 3",
   "language": "python",
   "name": "python3"
  },
  "language_info": {
   "codemirror_mode": {
    "name": "ipython",
    "version": 3
   },
   "file_extension": ".py",
   "mimetype": "text/x-python",
   "name": "python",
   "nbconvert_exporter": "python",
   "pygments_lexer": "ipython3",
   "version": "3.7.9"
  }
 },
 "nbformat": 4,
 "nbformat_minor": 4
}
